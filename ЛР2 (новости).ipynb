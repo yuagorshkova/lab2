{
 "cells": [
  {
   "cell_type": "markdown",
   "metadata": {},
   "source": [
    "https://mk.tula.ru/news/"
   ]
  },
  {
   "cell_type": "code",
   "execution_count": 43,
   "metadata": {},
   "outputs": [],
   "source": [
    "import requests\n",
    "import re\n",
    "from bs4 import BeautifulSoup\n",
    "import os.path"
   ]
  },
  {
   "cell_type": "markdown",
   "metadata": {},
   "source": [
    "Следующие несколько функций собирают необходимую информацию о каждой статье:"
   ]
  },
  {
   "cell_type": "code",
   "execution_count": 44,
   "metadata": {},
   "outputs": [],
   "source": [
    "#почему-то полного названия источника нет нигде на странице, оно находится абсолютно в другом разделе сайта\n",
    "def get_source(soup):\n",
    "    return 'Молодой коммунар'"
   ]
  },
  {
   "cell_type": "code",
   "execution_count": 45,
   "metadata": {},
   "outputs": [],
   "source": [
    "calendar = {\n",
    "    'Января':'01',\n",
    "    'Февраля':'02',\n",
    "    'Марта':'03',\n",
    "    'Апреля':'04',\n",
    "    'Мая':'05',\n",
    "    'Июня':'06',\n",
    "    'Июля':'07',\n",
    "    'Августа':'08',\n",
    "    'Сентября':'09',\n",
    "    'Октября':'10',\n",
    "    'Ноября':'11',\n",
    "    'Декабря':'12'\n",
    "}\n",
    "\n",
    "\n",
    "def convert_date(s, calendar = calendar):\n",
    "    date_split = s.split()[:3]\n",
    "    date_split[1] = calendar[date_split[1]]\n",
    "    return '.'.join(date_split)\n",
    "    \n",
    "def get_date(soup):\n",
    "    date = soup.find('div', {'class': 'data_news'})\n",
    "    date = date.find('span').string\n",
    "    date = str(date)\n",
    "    return convert_date(date)"
   ]
  },
  {
   "cell_type": "code",
   "execution_count": 46,
   "metadata": {},
   "outputs": [],
   "source": [
    "#Авторы статей не указаны\n",
    "def get_author(soup):\n",
    "    return('na')"
   ]
  },
  {
   "cell_type": "code",
   "execution_count": 47,
   "metadata": {},
   "outputs": [],
   "source": [
    "def get_title(soup):\n",
    "    return soup.title.string"
   ]
  },
  {
   "cell_type": "code",
   "execution_count": 48,
   "metadata": {},
   "outputs": [],
   "source": [
    "def clean_string(soup_obj):\n",
    "    s = str(soup_obj)\n",
    "    s = s.replace('\\xa0', ' ')\n",
    "    bs = BeautifulSoup(s)\n",
    "    return(bs.get_text(strip=True))\n",
    "\n",
    "def get_content(soup):\n",
    "    content = soup.find('div', {'class': 'poster_content_block'})\n",
    "    content = content.find_all('p')\n",
    "    content_l = [el.get_text(strip=True) for el in content]\n",
    "\n",
    "    return '\\n'.join(content_l)"
   ]
  },
  {
   "cell_type": "markdown",
   "metadata": {},
   "source": [
    "Функция, которая собирает все пункты информации:"
   ]
  },
  {
   "cell_type": "code",
   "execution_count": 49,
   "metadata": {},
   "outputs": [],
   "source": [
    "def get_info(url, website = 'https://mk.tula.ru'):\n",
    "    full_url = website + url\n",
    "    \n",
    "    response = requests.get(full_url)\n",
    "    soup = BeautifulSoup(response.text.replace('\\xa0', ' '))\n",
    "    \n",
    "    source = get_source(soup)\n",
    "    date = get_date(soup)\n",
    "    author = get_author(soup)\n",
    "    title = get_title(soup)\n",
    "    content = get_content(soup)\n",
    "    \n",
    "    res_l = ['=====', full_url, source, date, author, title, content]\n",
    "    \n",
    "    res = '\\n'.join(res_l)\n",
    "    return res"
   ]
  },
  {
   "cell_type": "markdown",
   "metadata": {},
   "source": [
    "Функция, которая добавляет всю информацию об одной статье в файл:"
   ]
  },
  {
   "cell_type": "code",
   "execution_count": 50,
   "metadata": {},
   "outputs": [],
   "source": [
    "def add_res_to_file(url, filename):\n",
    "    info = get_info(url)\n",
    "    \n",
    "    if os.path.isfile(filename):\n",
    "        with open(filename, 'a') as file:\n",
    "            file.write(info + '\\n')\n",
    "    else:\n",
    "        with open(filename, 'w') as file:\n",
    "            file.write(info + '\\n')\n"
   ]
  },
  {
   "cell_type": "markdown",
   "metadata": {},
   "source": [
    "Функция, которая для каждой новости на странице добавляет информацию в файл"
   ]
  },
  {
   "cell_type": "code",
   "execution_count": 58,
   "metadata": {},
   "outputs": [],
   "source": [
    "def add_all_to_file(page_url, filename, news_class = 'news_container_list_aimg'):\n",
    "    response = requests.get(page_url)\n",
    "    soup = BeautifulSoup(response.text)\n",
    "    \n",
    "    urls_set = set()\n",
    "    for e in soup.find_all('a'):\n",
    "        if 'class' in e.attrs:\n",
    "            if news_class in e['class']:\n",
    "                if e['href'] not in urls_set:\n",
    "                    urls_set.add(e['href'])\n",
    "                    add_res_to_file(e['href'], filename)\n",
    "                    #print(e['href'])"
   ]
  },
  {
   "cell_type": "code",
   "execution_count": 59,
   "metadata": {},
   "outputs": [],
   "source": [
    "#можно печатать страницы, чтобы понимать, что процесс идет и сколько работы уже выполнено\n",
    "\n",
    "def all_pages(page_url, filename, end = 1453):\n",
    "    for i in range(1, 21):\n",
    "        add_all_to_file(page_url+'?PAGEN_2='+str(i), filename)\n",
    "        print(page_url+'?PAGEN_2='+str(i))\n"
   ]
  },
  {
   "cell_type": "code",
   "execution_count": 60,
   "metadata": {},
   "outputs": [
    {
     "name": "stdout",
     "output_type": "stream",
     "text": [
      "https://mk.tula.ru/news/?PAGEN_2=1\n",
      "https://mk.tula.ru/news/?PAGEN_2=2\n",
      "https://mk.tula.ru/news/?PAGEN_2=3\n",
      "https://mk.tula.ru/news/?PAGEN_2=4\n",
      "https://mk.tula.ru/news/?PAGEN_2=5\n",
      "https://mk.tula.ru/news/?PAGEN_2=6\n",
      "https://mk.tula.ru/news/?PAGEN_2=7\n",
      "https://mk.tula.ru/news/?PAGEN_2=8\n",
      "https://mk.tula.ru/news/?PAGEN_2=9\n",
      "https://mk.tula.ru/news/?PAGEN_2=10\n",
      "https://mk.tula.ru/news/?PAGEN_2=11\n",
      "https://mk.tula.ru/news/?PAGEN_2=12\n",
      "https://mk.tula.ru/news/?PAGEN_2=13\n",
      "https://mk.tula.ru/news/?PAGEN_2=14\n",
      "https://mk.tula.ru/news/?PAGEN_2=15\n",
      "https://mk.tula.ru/news/?PAGEN_2=16\n",
      "https://mk.tula.ru/news/?PAGEN_2=17\n",
      "https://mk.tula.ru/news/?PAGEN_2=18\n",
      "https://mk.tula.ru/news/?PAGEN_2=19\n",
      "https://mk.tula.ru/news/?PAGEN_2=20\n"
     ]
    }
   ],
   "source": [
    "all_pages('https://mk.tula.ru/news/', 'mktula.txt')\n",
    "with open('mktula.txt', 'a') as file:\n",
    "    file.write('=!====')"
   ]
  }
 ],
 "metadata": {
  "kernelspec": {
   "display_name": "Python 3",
   "language": "python",
   "name": "python3"
  },
  "language_info": {
   "codemirror_mode": {
    "name": "ipython",
    "version": 3
   },
   "file_extension": ".py",
   "mimetype": "text/x-python",
   "name": "python",
   "nbconvert_exporter": "python",
   "pygments_lexer": "ipython3",
   "version": "3.7.4"
  }
 },
 "nbformat": 4,
 "nbformat_minor": 4
}
